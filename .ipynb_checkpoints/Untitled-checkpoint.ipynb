{
 "cells": [
  {
   "cell_type": "code",
   "execution_count": 15,
   "id": "bc24a193",
   "metadata": {},
   "outputs": [],
   "source": [
    "import math\n",
    "import numpy as np"
   ]
  },
  {
   "cell_type": "code",
   "execution_count": 14,
   "id": "d8886ea3",
   "metadata": {},
   "outputs": [],
   "source": [
    "def sigma(x):\n",
    "    1 / (1 + math.exp(-x))\n",
    "    \n",
    "def der_sigma(x): return sigma(x) / (1 - sigma(x))"
   ]
  },
  {
   "cell_type": "code",
   "execution_count": null,
   "id": "f237ac0c",
   "metadata": {},
   "outputs": [],
   "source": [
    "W = [\n",
    "    [\n",
    "        [-.2, -.7],\n",
    "        [-.8, .6]\n",
    "    ],\n",
    "    [-.2, 1.3]\n",
    "    \n",
    "]\n",
    "B = [\n",
    "    [.5, .4],\n",
    "    [-.5]\n",
    "]"
   ]
  },
  {
   "cell_type": "code",
   "execution_count": null,
   "id": "404fd6dd",
   "metadata": {},
   "outputs": [],
   "source": [
    "def L1_epsilon(i, x):\n",
    "    return np.dot(W[0][i], x) + B[0][i]\n",
    "\n",
    "def L1_x(i, x):\n",
    "    return sigma(L1_epsilon(i, x))\n",
    "\n",
    "def L2_epsilon(x):\n",
    "    return np.dot(W[1], [L1_x(i, x) for x in range(2)])\n",
    "\n",
    "def L2_x(x):\n",
    "    return sigma(L2_epsilon(x))\n",
    "\n",
    "def L2_delta(y, y_hat, x)"
   ]
  }
 ],
 "metadata": {
  "kernelspec": {
   "display_name": "Python 3 (ipykernel)",
   "language": "python",
   "name": "python3"
  },
  "language_info": {
   "codemirror_mode": {
    "name": "ipython",
    "version": 3
   },
   "file_extension": ".py",
   "mimetype": "text/x-python",
   "name": "python",
   "nbconvert_exporter": "python",
   "pygments_lexer": "ipython3",
   "version": "3.10.4"
  }
 },
 "nbformat": 4,
 "nbformat_minor": 5
}
