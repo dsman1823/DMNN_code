{
 "cells": [
  {
   "cell_type": "code",
   "execution_count": 2,
   "id": "06304373",
   "metadata": {},
   "outputs": [],
   "source": [
    "import math\n",
    "import numpy as np"
   ]
  },
  {
   "cell_type": "code",
   "execution_count": 3,
   "id": "74693915",
   "metadata": {},
   "outputs": [],
   "source": [
    "nu = 1"
   ]
  },
  {
   "cell_type": "code",
   "execution_count": 4,
   "id": "28e21da2",
   "metadata": {},
   "outputs": [],
   "source": [
    "def sigma(x):\n",
    "    return 1 / (1 + np.exp(-x))\n",
    "\n",
    "def der_sigma(x):\n",
    "    return sigma(x) / (1 - sigma(x))\n",
    "\n",
    "def output(x, w, b):\n",
    "    '''returns (activation, neuron_output) tuple'''\n",
    "    epsilon = np.dot(w, x) + b\n",
    "    return epsilon, sigma(epsilon)\n",
    "\n",
    "def predict(x, w1, b1, w2, b2):\n",
    "    L1_epsilon, L1_out = output(x, w1, b1)\n",
    "    L2_epsilon, L2_out = output(L1_out, w2, b2)\n",
    "    return L2_out\n",
    "\n",
    "def compute_L2_delta(y, y_hat, L2_epsilon):\n",
    "    return (y - y_hat) * der_sigma(L2_epsilon)\n",
    "\n",
    "def compute_L1_delta(L2_dlt, w2, L1_epsilon):\n",
    "    return (L2_dlt * w2) * der_sigma(L1_epsilon)\n",
    "\n",
    "def compute_error(X, Y, w1, b1, w2, b2):\n",
    "    Y_hat = [predict(x, w1, b1, w2, b2) for x in X]\n",
    "    return .5 * sum((Y - Y_hat)**2)"
   ]
  },
  {
   "cell_type": "code",
   "execution_count": 5,
   "id": "cd1a9863",
   "metadata": {},
   "outputs": [],
   "source": [
    "w1 = np.array([\n",
    "    [-.2, -.7],\n",
    "    [-.8, .6]\n",
    "])\n",
    "b1 = np.array([.5, .4])\n",
    "w2 = np.array([-.2, 1.3])\n",
    "b2 = -.5"
   ]
  },
  {
   "cell_type": "code",
   "execution_count": 6,
   "id": "f4b1c8a0",
   "metadata": {},
   "outputs": [],
   "source": [
    "def compute_gradient(x, y, w1, b1, w2, b2):\n",
    "    L1_epsilon, L1_out = output([1, 1], w1, b1)\n",
    "    L2_epsilon, L2_out = output(L1_out, w2, b2)\n",
    "    y_hat = predict(x, w1, b1, w2, b2)\n",
    "    L2_delta = compute_L2_delta(y, y_hat, L2_epsilon)\n",
    "    L1_delta = compute_L1_delta(L2_delta, w2, L1_epsilon)\n",
    "   \n",
    "    delta_w1 = nu * np.dot(np.asmatrix(L1_delta).T, np.asmatrix(x))\n",
    "    delta_b1 = nu * L1_delta\n",
    "    delta_w2 = nu * np.dot(np.asmatrix(L2_delta).T, np.asmatrix(L1_out))\n",
    "    delta_b2 = nu * L2_delta\n",
    "    \n",
    "    return delta_w1, delta_b1,  np.asarray(delta_w2).reshape(-1), delta_b2"
   ]
  },
  {
   "cell_type": "code",
   "execution_count": 7,
   "id": "84ea8bbc",
   "metadata": {},
   "outputs": [],
   "source": [
    "X = np.array([\n",
    "    (1, 1),\n",
    "    (2, -1),\n",
    "    (3, 0)\n",
    "])\n",
    "Y = np.array([1, -1, -1])\n",
    "\n",
    "w1 = np.array([\n",
    "    [-.2, -.7],\n",
    "    [-.8, .6]\n",
    "])\n",
    "b1 = np.array([.5, .4])\n",
    "w2 = np.array([-.2, 1.3])\n",
    "b2 = -.5"
   ]
  },
  {
   "cell_type": "code",
   "execution_count": 8,
   "id": "036605b0",
   "metadata": {},
   "outputs": [],
   "source": [
    "errors = []\n",
    "for i in range(9):\n",
    "    errors.append(compute_error(X, Y, w1, b1, w2, b2))\n",
    "    steps = [compute_gradient(X[i], Y[i], w1, b1, w2, b2) for i in range(len(X))]\n",
    "    final_step = steps[0] + steps[1] + steps[2]\n",
    "\n",
    "    w1 -= final_step[0]\n",
    "    b1 -= final_step[1]\n",
    "    w2 -= final_step[2]\n",
    "    b2 -= final_step[3]\n",
    "\n",
    "    error_after = compute_error(X, Y, w1, b1, w2, b2)\n"
   ]
  },
  {
   "cell_type": "code",
   "execution_count": 9,
   "id": "ef0bd580",
   "metadata": {},
   "outputs": [],
   "source": [
    "from matplotlib import pyplot as plt\n",
    "from matplotlib.pyplot import figure"
   ]
  },
  {
   "cell_type": "code",
   "execution_count": 10,
   "id": "4eace0b2",
   "metadata": {},
   "outputs": [
    {
     "data": {
      "image/png": "[encoded data removed]",
      "text/plain": [
       "<Figure size 432x288 with 1 Axes>"
      ]
     },
     "metadata": {
      "needs_background": "light"
     },
     "output_type": "display_data"
    }
   ],
   "source": [
    "plt.plot(errors)\n",
    "plt.xlabel('iteration')\n",
    "plt.ylabel('error')\n",
    "plt.show()"
   ]
  },
  {
   "cell_type": "code",
   "execution_count": null,
   "id": "4553e90f",
   "metadata": {},
   "outputs": [],
   "source": []
  }
 ],
 "metadata": {
  "kernelspec": {
   "display_name": "Python 3 (ipykernel)",
   "language": "python",
   "name": "python3"
  },
  "language_info": {
   "codemirror_mode": {
    "name": "ipython",
    "version": 3
   },
   "file_extension": ".py",
   "mimetype": "text/x-python",
   "name": "python",
   "nbconvert_exporter": "python",
   "pygments_lexer": "ipython3",
   "version": "3.10.4"
  }
 },
 "nbformat": 4,
 "nbformat_minor": 5
}
